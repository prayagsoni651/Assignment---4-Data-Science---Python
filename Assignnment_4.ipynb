{
 "cells": [
  {
   "cell_type": "code",
   "execution_count": 1,
   "metadata": {},
   "outputs": [
    {
     "name": "stdout",
     "output_type": "stream",
     "text": [
      "[]\n"
     ]
    }
   ],
   "source": [
    "# 1. What exactly is []?\n",
    "\n",
    "\n",
    "\n",
    "'''\n",
    "\n",
    "In Python, [] denotes an empty list. A list is a mutable, ordered collection \n",
    "of elements, and it is one of the built-in data types in Python. An empty \n",
    "list is a list that contains no elements.\n",
    "'''\n",
    "\n",
    "empty_list = []\n",
    "print(empty_list)  # Output: []\n"
   ]
  },
  {
   "cell_type": "code",
   "execution_count": 2,
   "metadata": {},
   "outputs": [
    {
     "name": "stdout",
     "output_type": "stream",
     "text": [
      "[2, 4, 'hello', 8, 10]\n"
     ]
    }
   ],
   "source": [
    "# 2. In a list of values stored in a variable called spam, how would\n",
    "# you assign the value 'hello' as the third value? (Assume [2, 4, 6, 8, 10]\n",
    "# are in spam.)\n",
    "\n",
    "'''\n",
    "In Python, you can assign the value 'hello' as the third element in the list\n",
    "stored in the variable spam using indexing. List indices in Python are\n",
    "zero-based, so the third element has an index of 2. Here's how you can do\n",
    "it:\n",
    "\n",
    "'''\n",
    "\n",
    "spam = [2, 4, 6, 8, 10]\n",
    "\n",
    "# Assign 'hello' as the third value (index 2)\n",
    "spam[2] = 'hello'\n",
    "\n",
    "# Print the modified list\n",
    "print(spam)\n",
    "\n"
   ]
  },
  {
   "cell_type": "code",
   "execution_count": 5,
   "metadata": {},
   "outputs": [
    {
     "data": {
      "text/plain": [
       "8"
      ]
     },
     "execution_count": 5,
     "metadata": {},
     "output_type": "execute_result"
    }
   ],
   "source": [
    "# 3. What is the value of spam[int(int('3' * 2) / 11)]?\n",
    "\n",
    "spam[int(int('3' * 2) / 11)]"
   ]
  },
  {
   "cell_type": "code",
   "execution_count": 6,
   "metadata": {},
   "outputs": [
    {
     "data": {
      "text/plain": [
       "'d'"
      ]
     },
     "execution_count": 6,
     "metadata": {},
     "output_type": "execute_result"
    }
   ],
   "source": [
    "spam =  ['a', 'b', 'c', 'd'] \n",
    "# 4. What is the value of spam[-1]?\n",
    "spam[-1]"
   ]
  },
  {
   "cell_type": "code",
   "execution_count": 7,
   "metadata": {},
   "outputs": [
    {
     "data": {
      "text/plain": [
       "['a', 'c']"
      ]
     },
     "execution_count": 7,
     "metadata": {},
     "output_type": "execute_result"
    }
   ],
   "source": [
    "# 5. What is the value of spam[:2]?\n",
    "spam =  ['a', 'b', 'c', 'd'] \n",
    "spam[::2]\n"
   ]
  },
  {
   "cell_type": "code",
   "execution_count": 10,
   "metadata": {},
   "outputs": [
    {
     "data": {
      "text/plain": [
       "1"
      ]
     },
     "execution_count": 10,
     "metadata": {},
     "output_type": "execute_result"
    }
   ],
   "source": [
    "# Let's pretend bacon has the list [3.14, 'cat,' 11, 'cat,' True] for the\n",
    "# next three questions.\n",
    "# 6. What is the value of bacon.index('cat')?\n",
    "bacon =  [3.14, 'cat' , 11, 'cat' , True] \n",
    "\n",
    "bacon.index('cat')\n",
    "\n"
   ]
  },
  {
   "cell_type": "code",
   "execution_count": 13,
   "metadata": {},
   "outputs": [
    {
     "name": "stdout",
     "output_type": "stream",
     "text": [
      "[3.14, 'cat', 11, 'cat', True, 99]\n"
     ]
    }
   ],
   "source": [
    "# Let's pretend bacon has the list [3.14, 'cat,' 11, 'cat,' True] for the next\n",
    "# three questions.\n",
    "\n",
    "# 7. How does bacon.append(99) change the look of the list value in bacon?\n",
    "\n",
    "bacon =  [3.14, 'cat' , 11, 'cat' , True]\n",
    "bacon.append(99)  # append always last items\n",
    "print(bacon)"
   ]
  },
  {
   "cell_type": "code",
   "execution_count": 16,
   "metadata": {},
   "outputs": [
    {
     "name": "stdout",
     "output_type": "stream",
     "text": [
      "[3.14, 11, 'cat', True]\n"
     ]
    }
   ],
   "source": [
    "# Let's pretend bacon has the list [3.14, 'cat,' 11, 'cat,' True]\n",
    "# for the next three questions\n",
    "\n",
    " # 8. How does bacon.remove('cat') change the look of the list in bacon?\n",
    "\n",
    "bacon =  [3.14, 'cat' , 11, 'cat' , True]\n",
    "\n",
    "bacon.remove('cat')  # remive first element \n",
    "print(bacon)"
   ]
  },
  {
   "cell_type": "code",
   "execution_count": 18,
   "metadata": {},
   "outputs": [
    {
     "name": "stdout",
     "output_type": "stream",
     "text": [
      "list concation  =  [1, 2, 3, 4, 5, 6]\n",
      "replicated or replication list  =  [1, 2, 3, 1, 2, 3, 1, 2, 3]\n"
     ]
    }
   ],
   "source": [
    "# 9. What are the list concatenation and list replication operators?\n",
    "\n",
    "'''\n",
    "\n",
    "In Python, the list concatenation operator is the + (plus) sign, and the \n",
    "list replication operator is the * (asterisk) sign.\n",
    "'''\n",
    "\n",
    "\n",
    "'''\n",
    "List Concatenation (+): \n",
    "This operator is used to combine two \n",
    "or more lists into a new list.\n",
    "\n",
    "Example:\n",
    "'''\n",
    "\n",
    "list1 = [1, 2, 3]\n",
    "list2 = [4, 5, 6]\n",
    "concatenated_list = list1 + list2\n",
    "print(\"list concation  = \",concatenated_list)\n",
    "\n",
    "'''\n",
    "List Replication (*):\n",
    "This operator is used to create a new list by repeating an existing \n",
    "list a specified number of times.\n",
    "'''\n",
    "\n",
    "original_list = [1, 2, 3]\n",
    "replicated_list = original_list * 3\n",
    "print(\"replicated or replication list  = \",replicated_list)\n",
    "\n",
    "\n",
    "\n"
   ]
  },
  {
   "cell_type": "code",
   "execution_count": 21,
   "metadata": {},
   "outputs": [
    {
     "name": "stdout",
     "output_type": "stream",
     "text": [
      "append() method =  [1, 2, 3, 4]\n",
      " Insret() method  [1, 5, 2, 3]\n"
     ]
    }
   ],
   "source": [
    "# 10. What is difference between the list methods append() and insert()?\n",
    "\n",
    "'''\n",
    "The append() and insert() methods are both used to add elements to a \n",
    "list in Python, but they differ in how they add elements:\n",
    "\n",
    "'''\n",
    "'''\n",
    "append() Method:\n",
    "\n",
    " === Syntax: list.append(element)\n",
    " === The append() method adds the specified element to the end of the \n",
    " list.\n",
    " === It modifies the original list in place.\n",
    "\n",
    "'''\n",
    "\n",
    "my_list = [1, 2, 3]\n",
    "my_list.append(4)\n",
    "print(\"append() method = \",my_list)\n",
    "\n",
    "\n",
    "\n",
    "'''\n",
    "insert() Method:\n",
    "\n",
    " === Syntax: list.insert(index, element)\n",
    " === The insert() method adds the specified element at the specified \n",
    " index in the list.\n",
    " === It also modifies the original list in place but allows you to\n",
    " specify the position where the element should be inserted\n",
    "\n",
    "'''\n",
    "\n",
    "\n",
    "my_list = [1, 2, 3]\n",
    "my_list.insert(1, 5)\n",
    "print(\" Insret() method \",my_list)\n",
    "\n",
    "\n"
   ]
  },
  {
   "cell_type": "code",
   "execution_count": 23,
   "metadata": {},
   "outputs": [
    {
     "name": "stdout",
     "output_type": "stream",
     "text": [
      "remove() method =  [1, 3, 4, 2]\n",
      "[1, 3, 4]\n",
      "Popped Element: =  2\n"
     ]
    }
   ],
   "source": [
    "# 11. What are the two methods for removing items from a list?\n",
    "\n",
    "'''\n",
    "remove() Method:\n",
    "\n",
    " = Syntax: list.remove(element)\n",
    " = The remove() method removes the first occurrence of the specified \n",
    "   element from the list.\n",
    " = If the element is not present in the list, it raises a ValueError.\n",
    "\n",
    "'''\n",
    "\n",
    "my_list = [1, 2, 3, 4, 2]\n",
    "my_list.remove(2)\n",
    "print(\"remove() method = \",my_list)\n",
    "\n",
    "\n",
    "\"\"\"\n",
    "pop() Method:\n",
    "\n",
    " = Syntax: list.pop(index)\n",
    " = The pop() method removes and returns the element at the specified index. If \n",
    "   no index is provided, it removes and returns the last element in the list.\n",
    " = If the index is out of range, it raises an IndexError\n",
    "\"\"\"\n",
    "\n",
    "my_list = [1, 2, 3, 4]\n",
    "popped_element = my_list.pop(1)\n",
    "print(my_list)\n",
    "print(\"Popped Element: = \", popped_element)\n",
    "\n"
   ]
  },
  {
   "cell_type": "code",
   "execution_count": 24,
   "metadata": {},
   "outputs": [
    {
     "name": "stdout",
     "output_type": "stream",
     "text": [
      "4\n",
      "5\n",
      "1\n",
      "2\n",
      "3\n",
      "4\n",
      "h\n",
      "e\n",
      "l\n",
      "l\n",
      "o\n"
     ]
    }
   ],
   "source": [
    "# 12. Describe how list values and string values are identical.\n",
    "\n",
    "\n",
    "'''\n",
    "Sequential Ordered Data:\n",
    "  === > Both lists and strings are sequential, ordered collections of data. \n",
    "       This means that the elements in a list or characters in a string have a specific order, and you can access them by their positions (indices).Indexing and Slicing:\n",
    "\n",
    "  ===> Elements in both lists and strings can be accessed using indexing and \n",
    "       slicing.\n",
    "  ===> For example, my_list[0] would give you the first element of a list, and \n",
    "       my_string[1:4] would give you a substring from index 1 to 3 in a string.\n",
    "       \n",
    "       \n",
    "       \n",
    "Iteration:\n",
    " ===> You can iterate over the elements of a list or the characters of a string\n",
    "      using loops (e.g., for item in my_list: or for char in my_string:).\n",
    " \n",
    " \n",
    "Length:\n",
    " ===> The len() function can be used to determine the number of elements in a\n",
    "     list or the number of characters in a string.\n",
    "\n",
    "'''\n",
    "\n",
    "# List values\n",
    "my_list = [1, 2, 3, 4]\n",
    "\n",
    "# String values\n",
    "my_string = \"hello\"\n",
    "\n",
    "# Similarities\n",
    "print(len(my_list))     # Output: 4\n",
    "print(len(my_string))   # Output: 5\n",
    "\n",
    "# Iteration\n",
    "for item in my_list:\n",
    "    print(item)\n",
    "\n",
    "for char in my_string:\n",
    "    print(char)\n"
   ]
  },
  {
   "cell_type": "code",
   "execution_count": 25,
   "metadata": {},
   "outputs": [
    {
     "name": "stdout",
     "output_type": "stream",
     "text": [
      "[10, 2, 3]\n"
     ]
    }
   ],
   "source": [
    "# 13. What's the difference between tuples and lists?\n",
    "\n",
    "'''\n",
    "Mutability:\n",
    "     Lists are mutable:\n",
    "     ==> You can modify, add, or remove elements from a list after its creation. \n",
    "     Use square brackets [] to define a list.\n",
    "     \n",
    "'''\n",
    "my_list = [1, 2, 3]\n",
    "my_list[0] = 10\n",
    "\n",
    "\n",
    "\n",
    "'''\n",
    "     Tuples are immutable:\n",
    "     => Once a tuple is created, you cannot modify its elements. Tuples are \n",
    "     defined using parentheses ()\n",
    "\n",
    "'''\n",
    "my_tuple = (1, 2, 3)\n",
    "# The following line would raise an error\n",
    "# my_tuple[0] = 10\n",
    "\n",
    "'''\n",
    "Syntax:\n",
    " ==> Lists are defined using square brackets: my_list = [1, 2, 3]\n",
    " ==> uples are defined using parentheses: my_tuple = (1, 2, 3)\n",
    "\n",
    "\n",
    "\n",
    "Use Cases:\n",
    "==> Lists are suitable for situations where you need a collection that can be \n",
    "    modified, such as adding or removing elements during the program's execution.\n",
    "==> Tuples are useful when you want an immutable, ordered collection,\n",
    "    particularly when the size of the collection is fixed and known at the time of creation.\n",
    "\n",
    "\n",
    "\n",
    "Performance:\n",
    "==> Tuples are generally more memory-efficient and may have slightly better \n",
    "    performance than lists, especially when used as keys in dictionaries.\n",
    "'''\n",
    "\n",
    "# Lists are mutable\n",
    "my_list = [1, 2, 3]\n",
    "my_list[0] = 10\n",
    "print(my_list)  # Output: [10, 2, 3]\n",
    "\n",
    "# Tuples are immutable\n",
    "my_tuple = (1, 2, 3)\n",
    "# The following line would raise an error\n",
    "# my_tuple[0] = 10\n",
    "\n"
   ]
  },
  {
   "cell_type": "code",
   "execution_count": 30,
   "metadata": {},
   "outputs": [
    {
     "name": "stdout",
     "output_type": "stream",
     "text": [
      "<class 'tuple'>\n"
     ]
    }
   ],
   "source": [
    "# 14. How do you type a tuple value that only contains the integer 42?\n",
    "\n",
    "'''\n",
    "To create a tuple value that only contains the integer 42, you can use \n",
    "parentheses () and place the integer inside. Here's how you would type \n",
    "it in Python:\n",
    "'''\n",
    "my_tuple = (42 ,)\n",
    "print(type(my_tuple))\n",
    "\n",
    "'''\n",
    "The comma after the integer is necessary to distinguish it as a tuple.\n",
    "Without the comma, Python would interpret the expression as just an \n",
    "integer in parentheses.\n",
    "\n",
    "'''"
   ]
  },
  {
   "cell_type": "code",
   "execution_count": 33,
   "metadata": {},
   "outputs": [
    {
     "name": "stdout",
     "output_type": "stream",
     "text": [
      "(1, 2, 3, 4)\n",
      "[10, 20, 30, 40]\n"
     ]
    }
   ],
   "source": [
    "# 15. How do you get a list value's tuple form? How do you get \n",
    "# a tuple value's list form?\n",
    "\n",
    "my_list = [1, 2, 3, 4]\n",
    "my_tuple = tuple(my_list)\n",
    "print(my_tuple)\n",
    "\n",
    "\n",
    "my_tuple = (10, 20, 30, 40)\n",
    "my_list = list(my_tuple)\n",
    "print(my_list)"
   ]
  },
  {
   "cell_type": "code",
   "execution_count": 35,
   "metadata": {},
   "outputs": [
    {
     "name": "stdout",
     "output_type": "stream",
     "text": [
      "[1, 2, 3]\n",
      "[10, 2, 3]\n"
     ]
    }
   ],
   "source": [
    "# 16. Variables that \"contain\" list values are not necessarily lists \n",
    "# themselves. Instead, what do they contain\n",
    "\n",
    "original_list = [1, 2, 3]\n",
    "my_variable = original_list\n",
    "print(original_list)\n",
    "\n",
    "\n",
    "\n",
    "\n",
    "my_variable[0] = 10\n",
    "print(original_list)  # Output: [10, 2, 3]\n",
    "\n"
   ]
  },
  {
   "cell_type": "code",
   "execution_count": 37,
   "metadata": {},
   "outputs": [
    {
     "name": "stdout",
     "output_type": "stream",
     "text": [
      "[1, [99, 3], 4]\n",
      "[1, [2, 3], 4]\n"
     ]
    }
   ],
   "source": [
    "# 17. How do you distinguish between copy.copy() and copy.deepcopy()?\n",
    "\n",
    "'''\n",
    "copy.copy() (Shallow Copy):\n",
    " === The copy.copy() function creates a new object, but it does a \"shallow copy.\"\n",
    "     This means that while the top-level object is copied, references to objects \n",
    "     within that object are still shared between the original and the copy.\n",
    " === If the original object contains nested objects (lists, dictionaries, etc.),\n",
    "     only the references to those nested objects are copied, not the nested objects\n",
    "     themselves.\n",
    " === Changes to nested objects will be reflected in both the original and the \n",
    "     copied object\n",
    "\n",
    "\n",
    "'''\n",
    "\n",
    "import copy\n",
    "\n",
    "original_list = [1, [2, 3], 4]\n",
    "shallow_copy = copy.copy(original_list)\n",
    "\n",
    "shallow_copy[1][0] = 99\n",
    "print(original_list)  # Output: [1, [99, 3], 4]\n",
    "\n",
    "'''\n",
    "copy.deepcopy() (Deep Copy):\n",
    "\n",
    " === The copy.deepcopy() function creates a new object and recursively copies\n",
    "     the entire structure, including all nested objects. This results in a \n",
    "     completely independent copy where changes to nested objects are not \n",
    "     reflected in the original.\n",
    " === It is a more thorough copy, but it may be less efficient than copy.copy() \n",
    "     for large and complex structures\n",
    "\n",
    "'''\n",
    "\n",
    "import copy\n",
    "\n",
    "original_list = [1, [2, 3], 4]\n",
    "deep_copy = copy.deepcopy(original_list)\n",
    "\n",
    "deep_copy[1][0] = 99\n",
    "print(original_list)  # Output: [1, [2, 3], 4]\n",
    "\n"
   ]
  },
  {
   "cell_type": "code",
   "execution_count": null,
   "metadata": {},
   "outputs": [],
   "source": []
  }
 ],
 "metadata": {
  "kernelspec": {
   "display_name": "base",
   "language": "python",
   "name": "python3"
  },
  "language_info": {
   "codemirror_mode": {
    "name": "ipython",
    "version": 3
   },
   "file_extension": ".py",
   "mimetype": "text/x-python",
   "name": "python",
   "nbconvert_exporter": "python",
   "pygments_lexer": "ipython3",
   "version": "3.11.4"
  }
 },
 "nbformat": 4,
 "nbformat_minor": 2
}
